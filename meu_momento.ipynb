{
  "nbformat": 4,
  "nbformat_minor": 0,
  "metadata": {
    "colab": {
      "name": "meu_momento.ipynb",
      "provenance": [],
      "collapsed_sections": [],
      "authorship_tag": "ABX9TyOFXeRZq36GaeracrHdKlrr",
      "include_colab_link": true
    },
    "kernelspec": {
      "name": "python3",
      "display_name": "Python 3"
    }
  },
  "cells": [
    {
      "cell_type": "markdown",
      "metadata": {
        "id": "view-in-github",
        "colab_type": "text"
      },
      "source": [
        "<a href=\"https://colab.research.google.com/github/Lorenaps/programei-toda/blob/master/meu_momento.ipynb\" target=\"_parent\"><img src=\"https://colab.research.google.com/assets/colab-badge.svg\" alt=\"Open In Colab\"/></a>"
      ]
    },
    {
      "cell_type": "markdown",
      "metadata": {
        "id": "KvOnUMwziQE-",
        "colab_type": "text"
      },
      "source": [
        "# Seu momento Pylady é agora!\n",
        "\n",
        "<img src=\"https://media.giphy.com/media/Pd8Bf06Sas4yQ/giphy.gif\">\n"
      ]
    },
    {
      "cell_type": "markdown",
      "metadata": {
        "id": "7LT6A5LzmQIB",
        "colab_type": "text"
      },
      "source": [
        "## Variáveis\n",
        "\n"
      ]
    },
    {
      "cell_type": "code",
      "metadata": {
        "id": "gLd_nqCgfvV4",
        "colab_type": "code",
        "colab": {
          "base_uri": "https://localhost:8080/",
          "height": 35
        },
        "outputId": "d260e203-aa10-4458-fbf2-551386c7ce2c"
      },
      "source": [
        "meuNome = 'lorena'\n",
        "meuNome"
      ],
      "execution_count": 1,
      "outputs": [
        {
          "output_type": "execute_result",
          "data": {
            "text/plain": [
              "'lorena'"
            ]
          },
          "metadata": {
            "tags": []
          },
          "execution_count": 1
        }
      ]
    },
    {
      "cell_type": "markdown",
      "metadata": {
        "id": "hwkqBCI0mkTK",
        "colab_type": "text"
      },
      "source": [
        "## Tipos de dados"
      ]
    },
    {
      "cell_type": "code",
      "metadata": {
        "id": "GgwHfVLfmq4h",
        "colab_type": "code",
        "colab": {}
      },
      "source": [
        ""
      ],
      "execution_count": 0,
      "outputs": []
    },
    {
      "cell_type": "markdown",
      "metadata": {
        "id": "iXKdiFWFmxD_",
        "colab_type": "text"
      },
      "source": [
        "## Repetindo coisas"
      ]
    },
    {
      "cell_type": "code",
      "metadata": {
        "id": "bATdyzhem6Eq",
        "colab_type": "code",
        "colab": {}
      },
      "source": [
        ""
      ],
      "execution_count": 0,
      "outputs": []
    },
    {
      "cell_type": "markdown",
      "metadata": {
        "id": "-l-c1CLZmrue",
        "colab_type": "text"
      },
      "source": [
        "## Funções"
      ]
    },
    {
      "cell_type": "code",
      "metadata": {
        "id": "Y40sTLZWmqAP",
        "colab_type": "code",
        "colab": {}
      },
      "source": [
        ""
      ],
      "execution_count": 0,
      "outputs": []
    }
  ]
}