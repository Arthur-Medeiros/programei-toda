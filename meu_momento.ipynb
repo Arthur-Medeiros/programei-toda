{
  "nbformat": 4,
  "nbformat_minor": 0,
  "metadata": {
    "colab": {
      "name": "meu_momento.ipynb",
      "provenance": [],
      "collapsed_sections": [],
      "authorship_tag": "ABX9TyOp+2R3bdES8vHlnw4scgaz",
      "include_colab_link": true
    },
    "kernelspec": {
      "name": "python3",
      "display_name": "Python 3"
    }
  },
  "cells": [
    {
      "cell_type": "markdown",
      "metadata": {
        "id": "view-in-github",
        "colab_type": "text"
      },
      "source": [
        "<a href=\"https://colab.research.google.com/github/Lorenaps/programei-toda/blob/master/meu_momento.ipynb\" target=\"_parent\"><img src=\"https://colab.research.google.com/assets/colab-badge.svg\" alt=\"Open In Colab\"/></a>"
      ]
    },
    {
      "cell_type": "markdown",
      "metadata": {
        "id": "KvOnUMwziQE-",
        "colab_type": "text"
      },
      "source": [
        "# Introdução a Python, Github e Google Colab\n",
        "*Seu momento Pylady é agora!*\n",
        "\n",
        "<img src=\"https://media.giphy.com/media/Pd8Bf06Sas4yQ/giphy.gif\">\n"
      ]
    },
    {
      "cell_type": "markdown",
      "metadata": {
        "id": "7LT6A5LzmQIB",
        "colab_type": "text"
      },
      "source": [
        "## Variáveis\n",
        "Lugares onde salvamos informações\n",
        "\n",
        "*O que sabemos sobre o grupo Pyladies Paraíba?*\n"
      ]
    },
    {
      "cell_type": "code",
      "metadata": {
        "id": "gLd_nqCgfvV4",
        "colab_type": "code",
        "colab": {}
      },
      "source": [
        "nome = 'Pyladies Paraíba'\n",
        "anoCriacao = 2018\n",
        "qtdIntegrantes = 90\n",
        "trilhaSonora = 'Calcinha Preta'"
      ],
      "execution_count": 0,
      "outputs": []
    },
    {
      "cell_type": "markdown",
      "metadata": {
        "id": "f6Ln4WNIjbKX",
        "colab_type": "text"
      },
      "source": [
        "Para imprimir uma variável voce pode usar a função `print()` \n",
        "\n",
        "ou executar uma célula com o nome da variável que você deseja imprimir.\n",
        "\n"
      ]
    },
    {
      "cell_type": "code",
      "metadata": {
        "id": "D3hO0DtllbPR",
        "colab_type": "code",
        "colab": {}
      },
      "source": [
        "nome"
      ],
      "execution_count": 0,
      "outputs": []
    },
    {
      "cell_type": "code",
      "metadata": {
        "id": "14EHj4wLkDRA",
        "colab_type": "code",
        "colab": {}
      },
      "source": [
        "print('O grupo foi criado em', anoCriacao, 'por 2 mulheres incríveis e hoje é formado por', qtdIntegrantes, '.')"
      ],
      "execution_count": 0,
      "outputs": []
    },
    {
      "cell_type": "markdown",
      "metadata": {
        "id": "LGQPoBs8mhdt",
        "colab_type": "text"
      },
      "source": [
        "As variáveis tem um tipo que pode ser verificado com a função `type()`"
      ]
    },
    {
      "cell_type": "code",
      "metadata": {
        "id": "COuC-b5zilA3",
        "colab_type": "code",
        "colab": {}
      },
      "source": [
        "type(nome)"
      ],
      "execution_count": 0,
      "outputs": []
    },
    {
      "cell_type": "code",
      "metadata": {
        "id": "lnsDKDnvimOZ",
        "colab_type": "code",
        "colab": {}
      },
      "source": [
        "type(anoCriacao)"
      ],
      "execution_count": 0,
      "outputs": []
    },
    {
      "cell_type": "code",
      "metadata": {
        "id": "ruMLlVZZnWeO",
        "colab_type": "code",
        "colab": {}
      },
      "source": [
        "type(80.5)"
      ],
      "execution_count": 0,
      "outputs": []
    },
    {
      "cell_type": "markdown",
      "metadata": {
        "id": "hwkqBCI0mkTK",
        "colab_type": "text"
      },
      "source": [
        "## Tipos de dados\n",
        "Um tipo de dado é a forma de representar aquela informação. \n",
        "\n",
        "No caso agora vamos representar uma micro playlist de Calcinha Preta.\n",
        "\n",
        "<img src=\"https://i.makeagif.com/media/6-22-2015/_qcn7h.gif\">\n",
        "\n"
      ]
    },
    {
      "cell_type": "code",
      "metadata": {
        "id": "GgwHfVLfmq4h",
        "colab_type": "code",
        "colab": {}
      },
      "source": [
        "playlist = [{\n",
        "\t\t'titulo': 'Agora Estou Sofrendo',\n",
        "\t\t'album': 'Ao Vivo em Salvador, Vol. 1',\n",
        "\t\t'minutos': 4\n",
        "\t},\n",
        "\t{\n",
        "\t\t'titulo': 'Cobertor',\n",
        "\t\t'album': 'Ao Vivo em Salvador, Vol. 1',\n",
        "\t\t'minutos': 4\n",
        "\t},\n",
        "\t{\n",
        "\t\t'titulo': 'Refém',\n",
        "\t\t'album': 'Ao Vivo em Salvador, Vol. 1',\n",
        "\t\t'minutos': 3\n",
        "\t},\n",
        "\t{\n",
        "\t\t'titulo': 'Fique Amor',\n",
        "\t\t'album': 'Calcinha Preta, Vol. 10',\n",
        "\t\t'minutos': 3\n",
        "\t},\n",
        "\t{\n",
        "\t\t'titulo': 'Hoje a Noite \"Alone\"',\n",
        "\t\t'album': 'Calcinha Preta, Vol 13 (Ao Vivo)',\n",
        "\t\t'minutos': 3\n",
        "\t}]\n",
        "\n",
        "playlist"
      ],
      "execution_count": 0,
      "outputs": []
    },
    {
      "cell_type": "code",
      "metadata": {
        "id": "FEVURU4TuCyL",
        "colab_type": "code",
        "colab": {}
      },
      "source": [
        "type(playlist)"
      ],
      "execution_count": 0,
      "outputs": []
    },
    {
      "cell_type": "markdown",
      "metadata": {
        "id": "MEr9fj8fubmO",
        "colab_type": "text"
      },
      "source": [
        "Lista é um conjunto de itens que podem ser indexados.\n",
        "\n",
        "*Por exemplo, qual é o primeiro item da lista?*"
      ]
    },
    {
      "cell_type": "code",
      "metadata": {
        "id": "4aa7q2mTuVS2",
        "colab_type": "code",
        "colab": {}
      },
      "source": [
        "playlist[0]"
      ],
      "execution_count": 0,
      "outputs": []
    },
    {
      "cell_type": "markdown",
      "metadata": {
        "id": "iPPNKzfmu1ze",
        "colab_type": "text"
      },
      "source": [
        "*Qual é o último?*"
      ]
    },
    {
      "cell_type": "code",
      "metadata": {
        "id": "WbuRHchXupg1",
        "colab_type": "code",
        "colab": {}
      },
      "source": [
        "len(playlist)"
      ],
      "execution_count": 0,
      "outputs": []
    },
    {
      "cell_type": "code",
      "metadata": {
        "id": "RqAjxGVEu9yy",
        "colab_type": "code",
        "colab": {}
      },
      "source": [
        "playlist[5]"
      ],
      "execution_count": 0,
      "outputs": []
    },
    {
      "cell_type": "markdown",
      "metadata": {
        "id": "JQhbdWDbvOvL",
        "colab_type": "text"
      },
      "source": [
        "*E o que é aquilo entre as { }*"
      ]
    },
    {
      "cell_type": "code",
      "metadata": {
        "id": "epqCxlv4vFL4",
        "colab_type": "code",
        "colab": {}
      },
      "source": [
        "type(playlist[0])"
      ],
      "execution_count": 0,
      "outputs": []
    },
    {
      "cell_type": "markdown",
      "metadata": {
        "id": "ohmD9kkDvubd",
        "colab_type": "text"
      },
      "source": [
        "Dicionário é um tipo de dado que representa informações do tipo `'chave': valor`\n"
      ]
    },
    {
      "cell_type": "code",
      "metadata": {
        "id": "5Bzk6wh2wSOL",
        "colab_type": "code",
        "colab": {}
      },
      "source": [
        "playlist[0].keys()"
      ],
      "execution_count": 0,
      "outputs": []
    },
    {
      "cell_type": "code",
      "metadata": {
        "id": "U9WEaboqwamq",
        "colab_type": "code",
        "colab": {}
      },
      "source": [
        "playlist[0].values()"
      ],
      "execution_count": 0,
      "outputs": []
    },
    {
      "cell_type": "code",
      "metadata": {
        "id": "0EV6Ne0tvfxx",
        "colab_type": "code",
        "colab": {}
      },
      "source": [
        "playlist[0].get('titulo')"
      ],
      "execution_count": 0,
      "outputs": []
    },
    {
      "cell_type": "code",
      "metadata": {
        "id": "2xw3ZmU-wNdf",
        "colab_type": "code",
        "colab": {}
      },
      "source": [
        "playlist[0].get('nome da musica', 'Essa chave não existe')"
      ],
      "execution_count": 0,
      "outputs": []
    },
    {
      "cell_type": "markdown",
      "metadata": {
        "id": "iXKdiFWFmxD_",
        "colab_type": "text"
      },
      "source": [
        "## Repetindo coisas\n",
        "\n",
        "*Podemos listar quais são as músicas que descrevemos?*"
      ]
    },
    {
      "cell_type": "code",
      "metadata": {
        "id": "bATdyzhem6Eq",
        "colab_type": "code",
        "colab": {}
      },
      "source": [
        "for musica in playlist:\n",
        "  print(\"\")\n",
        "  print(musica.get('titulo'), 'com duração de', musica.get('minutos'), 'minutos')\n",
        "  print('Albúm:', musica.get('album'))"
      ],
      "execution_count": 0,
      "outputs": []
    },
    {
      "cell_type": "markdown",
      "metadata": {
        "id": "-l-c1CLZmrue",
        "colab_type": "text"
      },
      "source": [
        "## Funções\n",
        "\n",
        "Nós já vimos algumas hoje!\n",
        "\n",
        "- `<dict>.keys()`\n",
        "- `<dict>.get()`\n",
        "- `len()`"
      ]
    },
    {
      "cell_type": "markdown",
      "metadata": {
        "id": "E3pPTHrJybKj",
        "colab_type": "text"
      },
      "source": [
        "# Próximos passos:\n",
        "\n",
        "Vamos compartilhar aqui os materiais e cursos que usamos? Vou começar hein...\n",
        "- [Python para Zumbis](https://www.pycursos.com/python-para-zumbis/)\n",
        "- [Guia do mochileiro ~das galáxias~ de Python](https://python-guide-pt-br.readthedocs.io/pt_BR/latest/)\n",
        "- [Pense em python](https://penseallen.github.io/PensePython2e/)\n",
        "\n",
        "\n",
        "\n"
      ]
    }
  ]
}